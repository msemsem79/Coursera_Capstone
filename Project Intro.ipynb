{
 "cells": [
  {
   "cell_type": "markdown",
   "metadata": {},
   "source": [
    "<h1>Introduction</h1>\n",
    "\n",
    "This project will be used to evaluate and compare Toronto with Dubai cities to check the diversity between both eastern and western culture."
   ]
  },
  {
   "cell_type": "markdown",
   "metadata": {},
   "source": [
    "<h3>Problem Description</h3>\n",
    "\n",
    "Most of the individuals or entities who creates a new business will face a lot of challanges to gain revenue at start up. There are many reasons behind this problem as there will be many choices must be made between two or more alternatives ideas that seem to be equally and will need investments. The problem occurs when the business is selected without a proper market survey to check the effectivness of the ideas and whether it will lead to getting a good market share in the desired time based on the feasibility study.\n",
    "\n",
    "\n",
    "We will compare both Toronto and Dubai cities trying to list the categories that can help new business owners to take a decision as follows:\n",
    "\n",
    "\n",
    "\n",
    "1. Download and Explore both Toronto & Dubai Locations Datasets\n",
    "\n",
    "2. Explore Neighborhoods in both cities\n",
    "\n",
    "3. Cluster the venues in Dubai and suggest new business based on the bottom 5 categories\n",
    "    \n",
    "4. Check missing category in Dubai and suggest top 5 based on Toronto trending venues dataset\n",
    "\n"
   ]
  }
 ],
 "metadata": {
  "kernelspec": {
   "display_name": "Python 3",
   "language": "python",
   "name": "python3"
  },
  "language_info": {
   "codemirror_mode": {
    "name": "ipython",
    "version": 3
   },
   "file_extension": ".py",
   "mimetype": "text/x-python",
   "name": "python",
   "nbconvert_exporter": "python",
   "pygments_lexer": "ipython3",
   "version": "3.8.3"
  }
 },
 "nbformat": 4,
 "nbformat_minor": 2
}
